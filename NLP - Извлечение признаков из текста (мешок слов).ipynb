{
 "cells": [
  {
   "cell_type": "code",
   "execution_count": 14,
   "id": "b6692052",
   "metadata": {},
   "outputs": [],
   "source": [
    "with open (\"C:\\\\Users\\\\DaMol\\\\OneDrive\\\\Рабочий стол\\\\Домашние задания\\\\UNZIP_ME_FOR_NOTEBOOKS_ML_RUS_V6\\\\18-Naive-Bayes-and-NLP\\\\One.txt\") as mytext:\n",
    "    words_one = mytext.read().lower().split()\n",
    "    uni_words_one = set(words_one)"
   ]
  },
  {
   "cell_type": "code",
   "execution_count": 6,
   "id": "d96bf295",
   "metadata": {},
   "outputs": [
    {
     "name": "stdout",
     "output_type": "stream",
     "text": [
      "This is a story about dogs\n",
      "our canine pets\n",
      "Dogs are furry animals\n",
      "\n"
     ]
    }
   ],
   "source": [
    "#print(a)"
   ]
  },
  {
   "cell_type": "code",
   "execution_count": 12,
   "id": "7409d8fb",
   "metadata": {},
   "outputs": [],
   "source": [
    "#a.lower().split()"
   ]
  },
  {
   "cell_type": "code",
   "execution_count": 15,
   "id": "fda8c488",
   "metadata": {},
   "outputs": [
    {
     "data": {
      "text/plain": [
       "{'a',\n",
       " 'about',\n",
       " 'animals',\n",
       " 'are',\n",
       " 'canine',\n",
       " 'dogs',\n",
       " 'furry',\n",
       " 'is',\n",
       " 'our',\n",
       " 'pets',\n",
       " 'story',\n",
       " 'this'}"
      ]
     },
     "execution_count": 15,
     "metadata": {},
     "output_type": "execute_result"
    }
   ],
   "source": [
    "uni_words_one"
   ]
  },
  {
   "cell_type": "code",
   "execution_count": 16,
   "id": "07c98ab8",
   "metadata": {},
   "outputs": [],
   "source": [
    "with open (\"C:\\\\Users\\\\DaMol\\\\OneDrive\\\\Рабочий стол\\\\Домашние задания\\\\UNZIP_ME_FOR_NOTEBOOKS_ML_RUS_V6\\\\18-Naive-Bayes-and-NLP\\\\Two.txt\") as mytext:\n",
    "    words_two = mytext.read().lower().split()\n",
    "    uni_words_two = set(words_two)"
   ]
  },
  {
   "cell_type": "code",
   "execution_count": 17,
   "id": "591dfd95",
   "metadata": {},
   "outputs": [
    {
     "data": {
      "text/plain": [
       "{'a',\n",
       " 'about',\n",
       " 'catching',\n",
       " 'fun',\n",
       " 'is',\n",
       " 'popular',\n",
       " 'sport',\n",
       " 'story',\n",
       " 'surfing',\n",
       " 'this',\n",
       " 'water',\n",
       " 'waves'}"
      ]
     },
     "execution_count": 17,
     "metadata": {},
     "output_type": "execute_result"
    }
   ],
   "source": [
    "uni_words_two"
   ]
  },
  {
   "cell_type": "code",
   "execution_count": 41,
   "id": "26101d90",
   "metadata": {},
   "outputs": [],
   "source": [
    "all_uni_words = set()"
   ]
  },
  {
   "cell_type": "code",
   "execution_count": 42,
   "id": "38029964",
   "metadata": {},
   "outputs": [],
   "source": [
    "all_uni_words.update(uni_words_one)"
   ]
  },
  {
   "cell_type": "code",
   "execution_count": 43,
   "id": "af2f644a",
   "metadata": {},
   "outputs": [
    {
     "data": {
      "text/plain": [
       "{'a',\n",
       " 'about',\n",
       " 'animals',\n",
       " 'are',\n",
       " 'canine',\n",
       " 'dogs',\n",
       " 'furry',\n",
       " 'is',\n",
       " 'our',\n",
       " 'pets',\n",
       " 'story',\n",
       " 'this'}"
      ]
     },
     "execution_count": 43,
     "metadata": {},
     "output_type": "execute_result"
    }
   ],
   "source": [
    "all_uni_words"
   ]
  },
  {
   "cell_type": "code",
   "execution_count": 44,
   "id": "dfb20311",
   "metadata": {},
   "outputs": [],
   "source": [
    "all_uni_words.update(uni_words_two)"
   ]
  },
  {
   "cell_type": "code",
   "execution_count": 45,
   "id": "ea6fea67",
   "metadata": {},
   "outputs": [
    {
     "data": {
      "text/plain": [
       "{'a',\n",
       " 'about',\n",
       " 'animals',\n",
       " 'are',\n",
       " 'canine',\n",
       " 'catching',\n",
       " 'dogs',\n",
       " 'fun',\n",
       " 'furry',\n",
       " 'is',\n",
       " 'our',\n",
       " 'pets',\n",
       " 'popular',\n",
       " 'sport',\n",
       " 'story',\n",
       " 'surfing',\n",
       " 'this',\n",
       " 'water',\n",
       " 'waves'}"
      ]
     },
     "execution_count": 45,
     "metadata": {},
     "output_type": "execute_result"
    }
   ],
   "source": [
    "all_uni_words"
   ]
  },
  {
   "cell_type": "code",
   "execution_count": 22,
   "id": "3bc89567",
   "metadata": {},
   "outputs": [],
   "source": [
    "full_vocab = dict()\n",
    "i = 0\n",
    "\n",
    "for word in all_uni_words:\n",
    "    full_vocab[word] = i\n",
    "    i = i + 1"
   ]
  },
  {
   "cell_type": "code",
   "execution_count": 23,
   "id": "f83389a8",
   "metadata": {},
   "outputs": [
    {
     "data": {
      "text/plain": [
       "{'popular': 0,\n",
       " 'about': 1,\n",
       " 'sport': 2,\n",
       " 'catching': 3,\n",
       " 'a': 4,\n",
       " 'canine': 5,\n",
       " 'waves': 6,\n",
       " 'this': 7,\n",
       " 'water': 8,\n",
       " 'our': 9,\n",
       " 'surfing': 10,\n",
       " 'is': 11,\n",
       " 'fun': 12,\n",
       " 'dogs': 13,\n",
       " 'are': 14,\n",
       " 'pets': 15,\n",
       " 'animals': 16,\n",
       " 'furry': 17,\n",
       " 'story': 18}"
      ]
     },
     "execution_count": 23,
     "metadata": {},
     "output_type": "execute_result"
    }
   ],
   "source": [
    "full_vocab"
   ]
  },
  {
   "cell_type": "code",
   "execution_count": 24,
   "id": "a2733006",
   "metadata": {},
   "outputs": [],
   "source": [
    "one_freq = [0] * len(full_vocab)\n",
    "two_freq = [0] * len(full_vocab)\n",
    "all_word = [''] * len(full_vocab)"
   ]
  },
  {
   "cell_type": "code",
   "execution_count": 25,
   "id": "1e0e5dc2",
   "metadata": {},
   "outputs": [
    {
     "data": {
      "text/plain": [
       "[0, 0, 0, 0, 0, 0, 0, 0, 0, 0, 0, 0, 0, 0, 0, 0, 0, 0, 0]"
      ]
     },
     "execution_count": 25,
     "metadata": {},
     "output_type": "execute_result"
    }
   ],
   "source": [
    "one_freq"
   ]
  },
  {
   "cell_type": "code",
   "execution_count": 26,
   "id": "5633319c",
   "metadata": {},
   "outputs": [
    {
     "data": {
      "text/plain": [
       "[0, 0, 0, 0, 0, 0, 0, 0, 0, 0, 0, 0, 0, 0, 0, 0, 0, 0, 0]"
      ]
     },
     "execution_count": 26,
     "metadata": {},
     "output_type": "execute_result"
    }
   ],
   "source": [
    "two_freq"
   ]
  },
  {
   "cell_type": "code",
   "execution_count": 27,
   "id": "daeb33d6",
   "metadata": {},
   "outputs": [],
   "source": [
    "with open (\"C:\\\\Users\\\\DaMol\\\\OneDrive\\\\Рабочий стол\\\\Домашние задания\\\\UNZIP_ME_FOR_NOTEBOOKS_ML_RUS_V6\\\\18-Naive-Bayes-and-NLP\\\\One.txt\") as f:\n",
    "    one_text = f.read().lower().split()"
   ]
  },
  {
   "cell_type": "code",
   "execution_count": 29,
   "id": "a215e6b8",
   "metadata": {},
   "outputs": [],
   "source": [
    "for word in one_text:\n",
    "    word_ind = full_vocab[word]\n",
    "    one_freq[word_ind] += 1"
   ]
  },
  {
   "cell_type": "code",
   "execution_count": 30,
   "id": "77097409",
   "metadata": {},
   "outputs": [
    {
     "data": {
      "text/plain": [
       "[0, 1, 0, 0, 1, 1, 0, 1, 0, 1, 0, 1, 0, 2, 1, 1, 1, 1, 1]"
      ]
     },
     "execution_count": 30,
     "metadata": {},
     "output_type": "execute_result"
    }
   ],
   "source": [
    "one_freq"
   ]
  },
  {
   "cell_type": "code",
   "execution_count": 31,
   "id": "9bae0fed",
   "metadata": {},
   "outputs": [],
   "source": [
    "with open (\"C:\\\\Users\\\\DaMol\\\\OneDrive\\\\Рабочий стол\\\\Домашние задания\\\\UNZIP_ME_FOR_NOTEBOOKS_ML_RUS_V6\\\\18-Naive-Bayes-and-NLP\\\\Two.txt\") as f:\n",
    "    two_text = f.read().lower().split()"
   ]
  },
  {
   "cell_type": "code",
   "execution_count": 32,
   "id": "7006ebef",
   "metadata": {},
   "outputs": [],
   "source": [
    "for word in two_text:\n",
    "    word_ind = full_vocab[word]\n",
    "    two_freq[word_ind] += 1"
   ]
  },
  {
   "cell_type": "code",
   "execution_count": 33,
   "id": "7442dc13",
   "metadata": {},
   "outputs": [
    {
     "data": {
      "text/plain": [
       "[1, 1, 1, 1, 1, 0, 1, 1, 1, 0, 2, 3, 1, 0, 0, 0, 0, 0, 1]"
      ]
     },
     "execution_count": 33,
     "metadata": {},
     "output_type": "execute_result"
    }
   ],
   "source": [
    "two_freq"
   ]
  },
  {
   "cell_type": "code",
   "execution_count": 34,
   "id": "39fc3185",
   "metadata": {},
   "outputs": [],
   "source": [
    "for word in full_vocab:\n",
    "    word_ind = full_vocab[word]\n",
    "    all_word[word_ind] = word"
   ]
  },
  {
   "cell_type": "code",
   "execution_count": 35,
   "id": "9e41ab72",
   "metadata": {},
   "outputs": [
    {
     "data": {
      "text/plain": [
       "['popular',\n",
       " 'about',\n",
       " 'sport',\n",
       " 'catching',\n",
       " 'a',\n",
       " 'canine',\n",
       " 'waves',\n",
       " 'this',\n",
       " 'water',\n",
       " 'our',\n",
       " 'surfing',\n",
       " 'is',\n",
       " 'fun',\n",
       " 'dogs',\n",
       " 'are',\n",
       " 'pets',\n",
       " 'animals',\n",
       " 'furry',\n",
       " 'story']"
      ]
     },
     "execution_count": 35,
     "metadata": {},
     "output_type": "execute_result"
    }
   ],
   "source": [
    "all_word"
   ]
  },
  {
   "cell_type": "code",
   "execution_count": 36,
   "id": "fcee9e84",
   "metadata": {},
   "outputs": [],
   "source": [
    "import pandas as pd"
   ]
  },
  {
   "cell_type": "code",
   "execution_count": 38,
   "id": "cd71eb69",
   "metadata": {},
   "outputs": [],
   "source": [
    "bow = pd.DataFrame(data = [one_freq, two_freq], columns=all_word)"
   ]
  },
  {
   "cell_type": "code",
   "execution_count": 39,
   "id": "e31be6f8",
   "metadata": {},
   "outputs": [
    {
     "data": {
      "text/html": [
       "<div>\n",
       "<style scoped>\n",
       "    .dataframe tbody tr th:only-of-type {\n",
       "        vertical-align: middle;\n",
       "    }\n",
       "\n",
       "    .dataframe tbody tr th {\n",
       "        vertical-align: top;\n",
       "    }\n",
       "\n",
       "    .dataframe thead th {\n",
       "        text-align: right;\n",
       "    }\n",
       "</style>\n",
       "<table border=\"1\" class=\"dataframe\">\n",
       "  <thead>\n",
       "    <tr style=\"text-align: right;\">\n",
       "      <th></th>\n",
       "      <th>popular</th>\n",
       "      <th>about</th>\n",
       "      <th>sport</th>\n",
       "      <th>catching</th>\n",
       "      <th>a</th>\n",
       "      <th>canine</th>\n",
       "      <th>waves</th>\n",
       "      <th>this</th>\n",
       "      <th>water</th>\n",
       "      <th>our</th>\n",
       "      <th>surfing</th>\n",
       "      <th>is</th>\n",
       "      <th>fun</th>\n",
       "      <th>dogs</th>\n",
       "      <th>are</th>\n",
       "      <th>pets</th>\n",
       "      <th>animals</th>\n",
       "      <th>furry</th>\n",
       "      <th>story</th>\n",
       "    </tr>\n",
       "  </thead>\n",
       "  <tbody>\n",
       "    <tr>\n",
       "      <th>0</th>\n",
       "      <td>0</td>\n",
       "      <td>1</td>\n",
       "      <td>0</td>\n",
       "      <td>0</td>\n",
       "      <td>1</td>\n",
       "      <td>1</td>\n",
       "      <td>0</td>\n",
       "      <td>1</td>\n",
       "      <td>0</td>\n",
       "      <td>1</td>\n",
       "      <td>0</td>\n",
       "      <td>1</td>\n",
       "      <td>0</td>\n",
       "      <td>2</td>\n",
       "      <td>1</td>\n",
       "      <td>1</td>\n",
       "      <td>1</td>\n",
       "      <td>1</td>\n",
       "      <td>1</td>\n",
       "    </tr>\n",
       "    <tr>\n",
       "      <th>1</th>\n",
       "      <td>1</td>\n",
       "      <td>1</td>\n",
       "      <td>1</td>\n",
       "      <td>1</td>\n",
       "      <td>1</td>\n",
       "      <td>0</td>\n",
       "      <td>1</td>\n",
       "      <td>1</td>\n",
       "      <td>1</td>\n",
       "      <td>0</td>\n",
       "      <td>2</td>\n",
       "      <td>3</td>\n",
       "      <td>1</td>\n",
       "      <td>0</td>\n",
       "      <td>0</td>\n",
       "      <td>0</td>\n",
       "      <td>0</td>\n",
       "      <td>0</td>\n",
       "      <td>1</td>\n",
       "    </tr>\n",
       "  </tbody>\n",
       "</table>\n",
       "</div>"
      ],
      "text/plain": [
       "   popular  about  sport  catching  a  canine  waves  this  water  our  \\\n",
       "0        0      1      0         0  1       1      0     1      0    1   \n",
       "1        1      1      1         1  1       0      1     1      1    0   \n",
       "\n",
       "   surfing  is  fun  dogs  are  pets  animals  furry  story  \n",
       "0        0   1    0     2    1     1        1      1      1  \n",
       "1        2   3    1     0    0     0        0      0      1  "
      ]
     },
     "execution_count": 39,
     "metadata": {},
     "output_type": "execute_result"
    }
   ],
   "source": [
    "bow"
   ]
  },
  {
   "cell_type": "code",
   "execution_count": null,
   "id": "0fce0ef0",
   "metadata": {},
   "outputs": [],
   "source": []
  }
 ],
 "metadata": {
  "kernelspec": {
   "display_name": "Python 3 (ipykernel)",
   "language": "python",
   "name": "python3"
  },
  "language_info": {
   "codemirror_mode": {
    "name": "ipython",
    "version": 3
   },
   "file_extension": ".py",
   "mimetype": "text/x-python",
   "name": "python",
   "nbconvert_exporter": "python",
   "pygments_lexer": "ipython3",
   "version": "3.7.0"
  }
 },
 "nbformat": 4,
 "nbformat_minor": 5
}
